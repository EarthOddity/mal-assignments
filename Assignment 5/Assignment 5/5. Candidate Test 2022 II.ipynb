{
 "cells": [
  {
   "cell_type": "markdown",
   "id": "278102b3",
   "metadata": {},
   "source": [
    "# Candidate Test 2022 Analysis Part 2\n",
    "\n",
    "This exercise focuses on the candidate tests from two television networks: DR and TV2. Data from both tests have been given on a scale of five responses (-2, -1, 0, 1, 2). Consider normalizing the data or performing similar scaling transformations as needed.\n",
    "\n",
    "---\n",
    "\n",
    "There are 6 datasets included in this exercise:\n",
    "\n",
    "- `alldata.xlsx`: Contains responses from both TV stations.\n",
    "- `drdata.xlsx`: Contains responses from DR.\n",
    "- `drq.xlsx`: Contains questions from DR.\n",
    "- `tv2data.xlsx`: Contains responses from TV2.\n",
    "- `tv2q.xlsx`: Contains questions from TV2.\n",
    "- `electeddata.xlsx`: Contains responses from both TV stations for candidates who were elected to the parliament. Note that 9 members are missing; 7 of them didn't take any of the tests. Additionally, some notable figures like Mette F. and Lars Løkke did not participate in any of the tests.\n",
    "\n",
    "---\n",
    "\n",
    "It's entirely up to you how you approach this data, but at a *minimum*, your analysis should include:\n",
    "\n",
    "- An analysis/description of which questions are most crucial concerning their placement on the axes.\n",
    "- Average positions of parties concerning each question, preferably with accompanying plots of each (or selected) question.\n",
    "- A clustering analysis where you attempt various cluster numbers, which would correspond to different parties. Discuss whether there is room for more clusters/parties or if a reduction is needed. Make sure you cover: **K-Means, Hierarchical clustering, and DBSCAN.**\n",
    "- An overview of the political landscape of the elected candidates, highlighting which members agree or disagree the most and which parties or party members have significant disagreements.\n",
    "- Feel free to explore further and remember that preprocessing, methodology, and evaluation metrics are not mentioned explicitly, but are implicitly assumed.\n",
    "\n",
    "---\n",
    "\n",
    "The following parties are represented:\n",
    "\n",
    "| Party letter | Party name | Party name (English) | Political position |\n",
    "| :-: | :-: | :-: | :-: |\n",
    "| A | Socialdemokratiet | Social Democrats | Centre-left |\n",
    "| V | Venstre | Danish Liberal Party | Centre-right |\n",
    "| M | Moderaterne | Moderates | Centre-right |\n",
    "| F | Socialistisk Folkeparti | Socialist People's Party | Left-wing |\n",
    "| D | Danmarksdemokraterne | Denmark Democrats | Right-wing |\n",
    "| I | Liberal Alliance | Liberal Alliance | Right-wing |\n",
    "| C | Konservative | Conservative People's Party | Right-wing |\n",
    "| Æ | Enhedslisten | Red-Green Alliance | Far-left |\n",
    "| B | Radikale Venstre | Social Liberal Party | Centre-left |\n",
    "| D | Nye Borgerlige | New Right | Far-right |\n",
    "| Z | Alternativet | The Alternative | Centre-left |\n",
    "| O | Dansk Folkeparti | Danish People's Party | Far-right |\n",
    "| G | Frie Grønne | Free Greens | Centre-left |\n",
    "| K | Kristendemokraterne | Christian Democrats | Centre-right |\n",
    "\n",
    "Below you can see the results and the colors chosen to represent the parties. Use these colors in your analysis above.\n",
    "\n",
    "![Alt text](image-1.png)\n",
    "\n",
    "\n",
    "Others have undertaken similar analyses. You can draw inspiration from the following (use Google tranlsate if your Danish is rusty):\n",
    "\n",
    "- [Analysis of where individual candidates stand relative to each other and their parties](https://v2022.dumdata.dk/)\n",
    "- [Candidate Test 2022 – A deep dive into the data](https://kwedel.github.io/kandidattest2022/)\n",
    "- [The Political Landscape 2019](https://kwedel.github.io/kandidattest2019/)\n",
    "\n"
   ]
  },
  {
   "cell_type": "markdown",
   "id": "294da9f8",
   "metadata": {},
   "source": [
    "## Loading data"
   ]
  },
  {
   "cell_type": "code",
   "execution_count": 2,
   "id": "6e6e6297",
   "metadata": {},
   "outputs": [],
   "source": [
    "import numpy as np\n",
    "import pandas as pd\n",
    "import matplotlib.pyplot as plt\n",
    "import seaborn as sns"
   ]
  },
  {
   "cell_type": "code",
   "execution_count": 3,
   "id": "3ea0ecf5",
   "metadata": {},
   "outputs": [],
   "source": [
    "alldata = pd.read_excel('alldata.xlsx')\n",
    "drdata = pd.read_excel('drdata.xlsx')\n",
    "drq = pd.read_excel('drq.xlsx')\n",
    "tv2data = pd.read_excel('tv2data.xlsx')\n",
    "tv2q = pd.read_excel('tv2q.xlsx')\n",
    "electeddata = pd.read_excel('electeddata.xlsx')"
   ]
  },
  {
   "cell_type": "markdown",
   "id": "13a6756a",
   "metadata": {},
   "source": [
    "## Printing and checking data"
   ]
  },
  {
   "cell_type": "code",
   "execution_count": 4,
   "id": "7acb1591",
   "metadata": {},
   "outputs": [
    {
     "name": "stdout",
     "output_type": "stream",
     "text": [
      "Index(['530', '531', '533', '534', '535', '537', '538', '540', '541', '543',\n",
      "       '544', '545', '546', '547', '548', '550', '551', '552', '553', '555',\n",
      "       '556', '557', '559', '561', '563', 'navn', 'parti', '1a', '1b', '2a',\n",
      "       '2b', '3a', '3b', '4a', '4b', '5a', '5b', '6a', '6b', '7a', '7b', '8a',\n",
      "       '8b', '9a', '9b', '10a', '10b', '11a', '11b', '12a', '12b', 'storkreds',\n",
      "       'alder'],\n",
      "      dtype='object')\n",
      "Index(['530', '531', '533', '534', '535', '537', '538', '540', '541', '543',\n",
      "       '544', '545', '546', '547', '548', '550', '551', '552', '553', '555',\n",
      "       '556', '557', '559', '561', '563', 'navn', 'parti'],\n",
      "      dtype='object')\n",
      "Index(['ID', 'Title', 'Question', 'Info', 'ArgumentFor', 'ArgumentAgainst',\n",
      "       'WordMerger', 'ID_CandidateQuestionType', 'Rule', 'QuestionListData'],\n",
      "      dtype='object')\n",
      "Index(['1a', '1b', '2a', '2b', '3a', '3b', '4a', '4b', '5a', '5b', '6a', '6b',\n",
      "       '7a', '7b', '8a', '8b', '9a', '9b', '10a', '10b', '11a', '11b', '12a',\n",
      "       '12b', 'parti', 'navn', 'storkreds', 'alder'],\n",
      "      dtype='object')\n",
      "Index(['id', 'type', 'header', 'question', 'depends'], dtype='object')\n",
      "Index(['530', '531', '533', '534', '535', '537', '538', '540', '541', '543',\n",
      "       '544', '545', '546', '547', '548', '550', '551', '552', '553', '555',\n",
      "       '556', '557', '559', '561', '563', 'navn', 'parti', '1a', '1b', '2a',\n",
      "       '2b', '3a', '3b', '4a', '4b', '5a', '5b', '6a', '6b', '7a', '7b', '8a',\n",
      "       '8b', '9a', '9b', '10a', '10b', '11a', '11b', '12a', '12b', 'storkreds',\n",
      "       'alder'],\n",
      "      dtype='object')\n"
     ]
    }
   ],
   "source": [
    "print(alldata.columns)\n",
    "print(drdata.columns)\n",
    "print(drq.columns)\n",
    "print(tv2data.columns)\n",
    "print(tv2q.columns)\n",
    "print(electeddata.columns)"
   ]
  }
 ],
 "metadata": {
  "kernelspec": {
   "display_name": "Python 3",
   "language": "python",
   "name": "python3"
  },
  "language_info": {
   "codemirror_mode": {
    "name": "ipython",
    "version": 3
   },
   "file_extension": ".py",
   "mimetype": "text/x-python",
   "name": "python",
   "nbconvert_exporter": "python",
   "pygments_lexer": "ipython3",
   "version": "3.12.2"
  }
 },
 "nbformat": 4,
 "nbformat_minor": 5
}
