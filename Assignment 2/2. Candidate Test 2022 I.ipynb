{
 "cells": [
  {
   "cell_type": "markdown",
   "id": "278102b3",
   "metadata": {},
   "source": [
    "# Candidate Test 2022 Analysis Part 1\n",
    "\n",
    "This exercise focuses on the candidate tests from two television networks: DR and TV2. Data from both tests have been given on a scale of five responses (-2, -1, 0, 1, 2).\n",
    "\n",
    "---\n",
    "\n",
    "There are 6 datasets included in this exercise:\n",
    "\n",
    "- `alldata.xlsx`: Contains responses from both TV stations.\n",
    "- `drdata.xlsx`: Contains responses from DR.\n",
    "- `drq.xlsx`: Contains questions from DR.\n",
    "- `tv2data.xlsx`: Contains responses from TV2.\n",
    "- `tv2q.xlsx`: Contains questions from TV2.\n",
    "- `electeddata.xlsx`: Contains responses from both TV stations for candidates who were elected to the parliament. Note that 9 members are missing; 7 of them didn't take any of the tests. Additionally, some notable figures like Mette F. and Lars Løkke did not participate in any of the tests.\n",
    "\n",
    "---\n",
    "\n",
    "It's entirely up to you how you approach this data, but at a *minimum*, your analysis should include:\n",
    "- Age of the candidates grouped by parties.\n",
    "- An overview of the most \"confident\" candidates, i.e., those with the highest proportion of \"strongly agree\" or \"strongly disagree\" responses.\n",
    "- Differences in responses between candidates, both inter-party and intra-party, along with an explanation of which parties have the most internal disagreements.\n",
    "- Classification models to predict candidates' party affiliations. Investigate if there are any candidates who seem to be in the \"wrong\" party based on their political landscape positions. You must use the following three algorithms: **Decision Tree, Random Forrest, and Gradient Boosted Tree**, and **two other** classification algorithms of your choice, i.e. a total of 5 models are to be trained.\n",
    "\n",
    "---\n",
    "\n",
    "The following parties are represented:\n",
    "\n",
    "| Party letter | Party name | Party name (English) | Political position |\n",
    "| :-: | :-: | :-: | :-: |\n",
    "| A | Socialdemokratiet | Social Democrats | Centre-left |\n",
    "| V | Venstre | Danish Liberal Party | Centre-right |\n",
    "| M | Moderaterne | Moderates | Centre-right |\n",
    "| F | Socialistisk Folkeparti | Socialist People's Party | Left-wing |\n",
    "| D | Danmarksdemokraterne | Denmark Democrats | Right-wing |\n",
    "| I | Liberal Alliance | Liberal Alliance | Right-wing |\n",
    "| C | Konservative | Conservative People's Party | Right-wing |\n",
    "| Æ | Enhedslisten | Red-Green Alliance | Far-left |\n",
    "| B | Radikale Venstre | Social Liberal Party | Centre-left |\n",
    "| D | Nye Borgerlige | New Right | Far-right |\n",
    "| Z | Alternativet | The Alternative | Centre-left |\n",
    "| O | Dansk Folkeparti | Danish People's Party | Far-right |\n",
    "| G | Frie Grønne | Free Greens | Centre-left |\n",
    "| K | Kristendemokraterne | Christian Democrats | Centre-right |\n",
    "\n",
    "Below you can see the results and the colors chosen to represent the parties. Use these colors in your analysis above.\n",
    "\n",
    "![Alt text](image-1.png)\n",
    "\n",
    "\n",
    "Others have undertaken similar analyses. You can draw inspiration from the following (use Google tranlsate if your Danish is rusty):\n",
    "\n",
    "- [Analysis of where individual candidates stand relative to each other and their parties](https://v2022.dumdata.dk/)\n",
    "- [Candidate Test 2022 – A deep dive into the data](https://kwedel.github.io/kandidattest2022/)\n",
    "- [The Political Landscape 2019](https://kwedel.github.io/kandidattest2019/)\n",
    "\n"
   ]
  },
  {
   "cell_type": "code",
   "execution_count": 3,
   "id": "fcabf7c6",
   "metadata": {},
   "outputs": [
    {
     "name": "stdout",
     "output_type": "stream",
     "text": [
      "     530  531  533  534  535  537  538  540  541  543  ...  9a  9b  10a  10b  \\\n",
      "0     -1   -2    1   -2    2    1   -2    1    1    2  ...   2   0    1   -2   \n",
      "1      2    2   -1   -2   -1   -2    1   -2    2   -2  ...  -2   0   -1    2   \n",
      "2      2    1   -2   -2    1   -2    1   -1    1   -1  ...  -1  -2    0    2   \n",
      "3      2    1   -2   -1    1    1    1    1    1   -2  ...  -2   2    2    2   \n",
      "4      1    1   -2    2   -2    1   -2    1    2   -2  ...  -2   0   -1    0   \n",
      "..   ...  ...  ...  ...  ...  ...  ...  ...  ...  ...  ...  ..  ..  ...  ...   \n",
      "862    1    1    1   -2    2   -1    1   -2    1    1  ...   1   2   -1    2   \n",
      "863    1   -2   -2   -2    1   -2   -1   -2   -2   -2  ...  -1   0   -1    2   \n",
      "864    1    1    1   -2    2   -1    1   -1   -1    1  ...  -1   0   -1    2   \n",
      "865    1   -1    1   -2    1   -1   -1   -1   -1    1  ...   0   0    0    2   \n",
      "866    1    1   -1   -2    1   -1    1   -1    1   -1  ...  -2  -1   -1    2   \n",
      "\n",
      "     11a  11b  12a  12b                    storkreds  alder  \n",
      "0     -2    1    1    1         Københavns Storkreds     78  \n",
      "1      1   -2    0    0               Fyns Storkreds     64  \n",
      "2      0   -1    1   -2          Bornholms Storkreds     37  \n",
      "3      2   -1    2    0       Nordjyllands Storkreds     28  \n",
      "4     -2    0    2   -2         Københavns Storkreds     58  \n",
      "..   ...  ...  ...  ...                          ...    ...  \n",
      "862    1   -2    0    0  Københavns Omegns Storkreds     33  \n",
      "863    2   -2    0    0  Københavns Omegns Storkreds     45  \n",
      "864    2   -2    0    1  Københavns Omegns Storkreds     52  \n",
      "865    1   -2    1    0  Københavns Omegns Storkreds     44  \n",
      "866    2   -2    1    0  Københavns Omegns Storkreds     50  \n",
      "\n",
      "[867 rows x 53 columns]\n"
     ]
    }
   ],
   "source": [
    "import pandas as pd\n",
    "\n",
    "data = 'alldata.xlsx'\n",
    "\n",
    "df = pd.read_excel(data)\n",
    "\n",
    "print(df)"
   ]
  }
 ],
 "metadata": {
  "kernelspec": {
   "display_name": "Python 3 (ipykernel)",
   "language": "python",
   "name": "python3"
  },
  "language_info": {
   "codemirror_mode": {
    "name": "ipython",
    "version": 3
   },
   "file_extension": ".py",
   "mimetype": "text/x-python",
   "name": "python",
   "nbconvert_exporter": "python",
   "pygments_lexer": "ipython3",
   "version": "3.12.2"
  }
 },
 "nbformat": 4,
 "nbformat_minor": 5
}
